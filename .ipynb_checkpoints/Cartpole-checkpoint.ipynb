{
 "cells": [
  {
   "cell_type": "code",
   "execution_count": 1,
   "metadata": {},
   "outputs": [],
   "source": [
    "from __future__ import print_function, division\n",
    "from builtins import range\n",
    "import gym\n",
    "import os\n",
    "import sys\n",
    "import numpy as np\n",
    "import pandas as pd\n",
    "import matplotlib.pyplot as plt\n",
    "from gym import wrappers\n",
    "from datetime import datetime\n",
    "\n"
   ]
  },
  {
   "cell_type": "code",
   "execution_count": 2,
   "metadata": {},
   "outputs": [],
   "source": [
    "env = gym.make('CartPole-v0')\n",
    "observation_space = env.observation_space.shape[0]\n",
    "action_space = env.action_space.n"
   ]
  },
  {
   "cell_type": "code",
   "execution_count": 3,
   "metadata": {},
   "outputs": [
    {
     "name": "stdout",
     "output_type": "stream",
     "text": [
      "Box(4,)\n",
      "2\n",
      "[4.8000002e+00 3.4028235e+38 4.1887903e-01 3.4028235e+38]\n",
      "[-4.8000002e+00 -3.4028235e+38 -4.1887903e-01 -3.4028235e+38]\n"
     ]
    }
   ],
   "source": [
    "print(env.observation_space)\n",
    "print(env.action_space.n)\n",
    "print(env.observation_space.high)\n",
    "print(env.observation_space.low)\n"
   ]
  },
  {
   "cell_type": "markdown",
   "metadata": {},
   "source": [
    "Bin values into 20 categories for each state variable <br>\n",
    "We have 4 state variables, therefore our state space will 20*4 <br>\n",
    "Represent each state by combining the binned value for each state variable. \n",
    "i.e For example\n",
    "\n",
    "__Variable__&emsp;&emsp;    __Value__&emsp;&emsp;  __binned category__ <br>\n",
    "P &emsp;&emsp; = &emsp;&emsp; 0.2  &emsp; ==> &emsp;&emsp; 3 <br>\n",
    "V &emsp;&emsp; = &emsp;&emsp; 2.2  &emsp; ==> &emsp;&emsp; 1 <br>\n",
    "A &emsp;&emsp; = &emsp;&emsp; 5.2  &emsp; ==>   &emsp;&emsp; 4<br>\n",
    "Pv &emsp;&emsp; =   &emsp;&emsp;1.2 &emsp;  ==>   &emsp;&emsp;9 <br>\n",
    "*The above state is represented as ==> \"3149\"*\n",
    "    "
   ]
  },
  {
   "cell_type": "code",
   "execution_count": 4,
   "metadata": {},
   "outputs": [],
   "source": [
    "position_bins = np.linspace(-2.4,2.4,9)\n",
    "velocity_bins = np.linspace(-2.4,2.4,9)\n",
    "angle_bins    = np.linspace(-2.4,2.4,9)\n",
    "pole_velocity_bins = np.linspace(-2.4,2.4,9)"
   ]
  },
  {
   "cell_type": "code",
   "execution_count": 5,
   "metadata": {},
   "outputs": [
    {
     "data": {
      "text/plain": [
       "4"
      ]
     },
     "execution_count": 5,
     "metadata": {},
     "output_type": "execute_result"
    }
   ],
   "source": [
    "s = env.reset()\n",
    "binned_state = np.digitize(s[0], position_bins)\n",
    "binned_state"
   ]
  },
  {
   "cell_type": "code",
   "execution_count": 6,
   "metadata": {},
   "outputs": [],
   "source": [
    "def to_bins(x,bins):\n",
    "    binned_state = np.digitize(s[0], position_bins)\n",
    "    return binned_state\n",
    "\n",
    "def build_state(features):\n",
    "    return int(\"\".join(map(lambda feature: str(int(feature)), features)))"
   ]
  },
  {
   "cell_type": "code",
   "execution_count": 7,
   "metadata": {},
   "outputs": [],
   "source": [
    "class FeatureTransform:\n",
    "    def __init__(self):\n",
    "        self.pos_bins = np.linspace(-2.4,2.4,9)\n",
    "        self.velo_bins = np.linspace(-2.4,2.4,9)\n",
    "        self.angle_bins    = np.linspace(-2.4,2.4,9)\n",
    "        self.pole_velo_bins = np.linspace(-2.4,2.4,9)\n",
    "        \n",
    "    def bins(self, s):\n",
    "        return build_state([to_bins(s[0],self.pos_bins),\n",
    "                     to_bins(s[1],self.velo_bins),\n",
    "                     to_bins(s[2],self.angle_bins),\n",
    "                     to_bins(s[3],self.pole_velo_bins)\n",
    "                    ])\n",
    "    \n",
    "    "
   ]
  },
  {
   "cell_type": "code",
   "execution_count": null,
   "metadata": {},
   "outputs": [],
   "source": [
    "class Model:\n",
    "    def __init__(self, env, feature_transformer):\n",
    "        self.env = env\n",
    "        self.feature_transformer = feature_tranformer\n",
    "        num_states = 10**env.observation_space.shape[0]\n",
    "        num_actions = env.action_space.n\n",
    "        Q = np.zeros(num_states, num_actions)\n",
    "    \n",
    "    def predict(s):\n",
    "        s = self.feature_tranformer.bins(s)\n",
    "        Q_prev = Q[s]\n",
    "        \n",
    "    def action(self, eps, s):\n",
    "        if(np.random.random < eps):\n",
    "            return self.env.action_space.sample()\n",
    "        else:\n",
    "            return np.argmax(self.predict(self.feature_tranformer.bins(s)))\n",
    "    \n",
    "    def update():\n",
    "    "
   ]
  },
  {
   "cell_type": "code",
   "execution_count": null,
   "metadata": {},
   "outputs": [],
   "source": []
  },
  {
   "cell_type": "code",
   "execution_count": null,
   "metadata": {},
   "outputs": [],
   "source": []
  },
  {
   "cell_type": "code",
   "execution_count": null,
   "metadata": {},
   "outputs": [],
   "source": []
  },
  {
   "cell_type": "code",
   "execution_count": null,
   "metadata": {},
   "outputs": [],
   "source": []
  },
  {
   "cell_type": "code",
   "execution_count": null,
   "metadata": {},
   "outputs": [],
   "source": []
  },
  {
   "cell_type": "code",
   "execution_count": null,
   "metadata": {},
   "outputs": [],
   "source": []
  },
  {
   "cell_type": "code",
   "execution_count": null,
   "metadata": {},
   "outputs": [],
   "source": []
  },
  {
   "cell_type": "code",
   "execution_count": 4,
   "metadata": {},
   "outputs": [],
   "source": [
    "def build_state(features):\n",
    "    return int(\"\".join(map(lambda feature: str(int(feature)), features)))\n",
    "\n",
    "def to_bin(value, bins):\n",
    "    return np.digitize(x=[value], bins=bins)[0]"
   ]
  },
  {
   "cell_type": "code",
   "execution_count": 20,
   "metadata": {},
   "outputs": [],
   "source": [
    "env.reset()\n",
    "for _ in range(1000):\n",
    "    env.render()\n",
    "    env.step(env.action_space.sample()) # take a random action\n",
    "env.close()"
   ]
  },
  {
   "cell_type": "code",
   "execution_count": 31,
   "metadata": {},
   "outputs": [],
   "source": [
    "observation = env.reset()"
   ]
  },
  {
   "cell_type": "code",
   "execution_count": 34,
   "metadata": {},
   "outputs": [
    {
     "data": {
      "text/plain": [
       "array([ 0.01171104,  0.00984332, -0.04401736,  0.02301497])"
      ]
     },
     "execution_count": 34,
     "metadata": {},
     "output_type": "execute_result"
    }
   ],
   "source": [
    "observation"
   ]
  },
  {
   "cell_type": "code",
   "execution_count": 33,
   "metadata": {},
   "outputs": [
    {
     "data": {
      "text/plain": [
       "5"
      ]
     },
     "execution_count": 33,
     "metadata": {},
     "output_type": "execute_result"
    }
   ],
   "source": [
    "cart_pos, cart_vel, pole_angle, pole_vel = observation\n",
    "to_bin(cart_pos, cart_position_bins)"
   ]
  },
  {
   "cell_type": "code",
   "execution_count": 80,
   "metadata": {},
   "outputs": [
    {
     "data": {
      "text/plain": [
       "[0.011711043371876909]"
      ]
     },
     "execution_count": 80,
     "metadata": {},
     "output_type": "execute_result"
    }
   ],
   "source": [
    "[cart_pos]"
   ]
  },
  {
   "cell_type": "code",
   "execution_count": 36,
   "metadata": {},
   "outputs": [
    {
     "data": {
      "text/plain": [
       "array([-2.4, -1.8, -1.2, -0.6,  0. ,  0.6,  1.2,  1.8,  2.4])"
      ]
     },
     "execution_count": 36,
     "metadata": {},
     "output_type": "execute_result"
    }
   ],
   "source": [
    "cart_position_bins = np.linspace(-2.4, 2.4, 9)\n",
    "cart_velocity_bins = np.linspace(-2, 2, 9) # (-inf, inf) (I did not check that these were good values)\n",
    "pole_angle_bins = np.linspace(-0.4, 0.4, 9)\n",
    "pole_velocity_bins = np.linspace(-3.5, 3.5, 9) # (-inf, inf) (I did not check that these were good values)\n",
    "\n",
    "cart_position_bins"
   ]
  },
  {
   "cell_type": "code",
   "execution_count": 52,
   "metadata": {},
   "outputs": [],
   "source": [
    "transformed = build_state([\n",
    "            to_bin(cart_pos, cart_position_bins),\n",
    "            to_bin(cart_vel, cart_velocity_bins),\n",
    "            to_bin(pole_angle, pole_angle_bins),\n",
    "            to_bin(pole_vel, pole_velocity_bins),\n",
    "            ])"
   ]
  },
  {
   "cell_type": "code",
   "execution_count": 5,
   "metadata": {},
   "outputs": [],
   "source": [
    "class FeatureTransformer:\n",
    "    def __init__(self):\n",
    "    # Note: to make this better you could look at how often each bin was\n",
    "    # actually used while running the script.\n",
    "    # It's not clear from the high/low values nor sample() what values\n",
    "    # we really expect to get.\n",
    "        self.cart_position_bins = np.linspace(-2.4, 2.4, 9)\n",
    "        self.cart_velocity_bins = np.linspace(-2, 2, 9) # (-inf, inf) (I did not check that these were good values)\n",
    "        self.pole_angle_bins = np.linspace(-0.4, 0.4, 9)\n",
    "        self.pole_velocity_bins = np.linspace(-3.5, 3.5, 9) # (-inf, inf) (I did not check that these were good values)\n",
    "\n",
    "    def transform(self, observation):\n",
    "    # returns an int\n",
    "        cart_pos, cart_vel, pole_angle, pole_vel = observation\n",
    "        return build_state([\n",
    "          to_bin(cart_pos, self.cart_position_bins),\n",
    "          to_bin(cart_vel, self.cart_velocity_bins),\n",
    "          to_bin(pole_angle, self.pole_angle_bins),\n",
    "          to_bin(pole_vel, self.pole_velocity_bins),\n",
    "        ])\n",
    "\n",
    "\n"
   ]
  },
  {
   "cell_type": "code",
   "execution_count": 60,
   "metadata": {},
   "outputs": [],
   "source": [
    "num_states = 20**env.observation_space.shape[0]"
   ]
  },
  {
   "cell_type": "code",
   "execution_count": 61,
   "metadata": {},
   "outputs": [],
   "source": [
    "Q = np.random.uniform(low=-1, high=1, size=(num_states, 2))"
   ]
  },
  {
   "cell_type": "code",
   "execution_count": 50,
   "metadata": {},
   "outputs": [
    {
     "data": {
      "text/plain": [
       "array([ 0.01171104,  0.00984332, -0.04401736,  0.02301497])"
      ]
     },
     "execution_count": 50,
     "metadata": {},
     "output_type": "execute_result"
    }
   ],
   "source": [
    "observation"
   ]
  },
  {
   "cell_type": "code",
   "execution_count": 67,
   "metadata": {},
   "outputs": [],
   "source": [
    "transformed = 151545"
   ]
  },
  {
   "cell_type": "code",
   "execution_count": 68,
   "metadata": {},
   "outputs": [
    {
     "ename": "IndexError",
     "evalue": "index 1515145 is out of bounds for axis 0 with size 160000",
     "output_type": "error",
     "traceback": [
      "\u001b[1;31m---------------------------------------------------------------------------\u001b[0m",
      "\u001b[1;31mIndexError\u001b[0m                                Traceback (most recent call last)",
      "\u001b[1;32m<ipython-input-68-2ac5b9d86f99>\u001b[0m in \u001b[0;36m<module>\u001b[1;34m\u001b[0m\n\u001b[1;32m----> 1\u001b[1;33m \u001b[0mQ\u001b[0m\u001b[1;33m[\u001b[0m\u001b[0mtransformed\u001b[0m\u001b[1;33m]\u001b[0m\u001b[1;33m\u001b[0m\u001b[1;33m\u001b[0m\u001b[0m\n\u001b[0m",
      "\u001b[1;31mIndexError\u001b[0m: index 1515145 is out of bounds for axis 0 with size 160000"
     ]
    }
   ],
   "source": [
    "Q[transformed]"
   ]
  },
  {
   "cell_type": "code",
   "execution_count": 6,
   "metadata": {},
   "outputs": [],
   "source": [
    "class Model:\n",
    "    def __init__(self, env, feature_transformer):\n",
    "        self.env = env\n",
    "        self.feature_transformer = feature_transformer\n",
    "\n",
    "        num_states = 10**env.observation_space.shape[0]\n",
    "        num_actions = env.action_space.n\n",
    "        self.Q = np.random.uniform(low=-1, high=1, size=(num_states, num_actions))\n",
    "\n",
    "    def predict(self, s):\n",
    "        x = self.feature_transformer.transform(s)\n",
    "        return self.Q[x]\n",
    "\n",
    "    def update(self, s, a, G):\n",
    "        x = self.feature_transformer.transform(s)\n",
    "        self.Q[x,a] += 1e-2*(G - self.Q[x,a])\n",
    "\n",
    "    def sample_action(self, s, eps):\n",
    "        if np.random.random() < eps:\n",
    "            return self.env.action_space.sample()\n",
    "        else:\n",
    "            p = self.predict(s)\n",
    "            return np.argmax(p)\n"
   ]
  },
  {
   "cell_type": "code",
   "execution_count": 9,
   "metadata": {},
   "outputs": [],
   "source": [
    "def play_one(model, eps, gamma):\n",
    "    observation = env.reset()\n",
    "    done = False\n",
    "    totalreward = 0\n",
    "    iters = 0\n",
    "    while not done and iters < 10000:\n",
    "        action = model.sample_action(observation, eps)\n",
    "        prev_observation = observation\n",
    "        observation, reward, done, info = env.step(action)\n",
    "\n",
    "        totalreward += reward\n",
    "\n",
    "        if done and iters < 199:\n",
    "            reward = -300\n",
    "\n",
    "    # update the model\n",
    "        G = reward + gamma*np.max(model.predict(observation))\n",
    "        model.update(prev_observation, action, G)\n",
    "\n",
    "        iters += 1\n",
    "\n",
    "    return totalreward\n",
    "\n",
    "def plot_running_avg(totalrewards):\n",
    "    N = len(totalrewards)\n",
    "    running_avg = np.empty(N)\n",
    "    for t in range(N):\n",
    "        running_avg[t] = totalrewards[max(0, t-100):(t+1)].mean()\n",
    "    plt.plot(running_avg)\n",
    "    plt.title(\"Running Average\")\n",
    "    plt.show()"
   ]
  },
  {
   "cell_type": "code",
   "execution_count": 10,
   "metadata": {},
   "outputs": [
    {
     "name": "stdout",
     "output_type": "stream",
     "text": [
      "episode: 0 total reward: 19.0 eps: 1.0\n",
      "episode: 100 total reward: 30.0 eps: 0.09950371902099892\n",
      "episode: 200 total reward: 74.0 eps: 0.07053456158585983\n",
      "episode: 300 total reward: 29.0 eps: 0.0576390417704235\n",
      "episode: 400 total reward: 26.0 eps: 0.04993761694389223\n",
      "episode: 500 total reward: 15.0 eps: 0.04467670516087703\n",
      "episode: 600 total reward: 122.0 eps: 0.04079085082240021\n",
      "episode: 700 total reward: 53.0 eps: 0.0377694787300249\n",
      "episode: 800 total reward: 56.0 eps: 0.03533326266687867\n",
      "episode: 900 total reward: 50.0 eps: 0.03331483023263848\n",
      "episode: 1000 total reward: 150.0 eps: 0.0316069770620507\n",
      "episode: 1100 total reward: 37.0 eps: 0.03013743873394561\n",
      "episode: 1200 total reward: 144.0 eps: 0.028855492841238062\n",
      "episode: 1300 total reward: 200.0 eps: 0.027724348650071385\n",
      "episode: 1400 total reward: 138.0 eps: 0.02671658425726324\n",
      "episode: 1500 total reward: 116.0 eps: 0.025811286645983367\n",
      "episode: 1600 total reward: 165.0 eps: 0.02499219116020307\n",
      "episode: 1700 total reward: 175.0 eps: 0.024246432248443597\n",
      "episode: 1800 total reward: 165.0 eps: 0.02356368148131365\n",
      "episode: 1900 total reward: 140.0 eps: 0.02293553851298437\n",
      "episode: 2000 total reward: 167.0 eps: 0.022355091700494795\n",
      "episode: 2100 total reward: 136.0 eps: 0.021816595214404266\n",
      "episode: 2200 total reward: 200.0 eps: 0.021315227815974374\n",
      "episode: 2300 total reward: 160.0 eps: 0.02084690996125416\n",
      "episode: 2400 total reward: 200.0 eps: 0.02040816326530612\n",
      "episode: 2500 total reward: 200.0 eps: 0.01999600119960014\n",
      "episode: 2600 total reward: 162.0 eps: 0.0196078431372549\n",
      "episode: 2700 total reward: 104.0 eps: 0.019241446072101123\n",
      "episode: 2800 total reward: 135.0 eps: 0.018894849871330582\n",
      "episode: 2900 total reward: 200.0 eps: 0.018566333001716968\n",
      "episode: 3000 total reward: 200.0 eps: 0.01825437644092281\n",
      "episode: 3100 total reward: 200.0 eps: 0.017957634043632188\n",
      "episode: 3200 total reward: 100.0 eps: 0.01767490804100673\n",
      "episode: 3300 total reward: 147.0 eps: 0.01740512865461766\n",
      "episode: 3400 total reward: 197.0 eps: 0.017147337032429676\n",
      "episode: 3500 total reward: 199.0 eps: 0.01690067088544646\n",
      "episode: 3600 total reward: 200.0 eps: 0.016664352333993333\n",
      "episode: 3700 total reward: 88.0 eps: 0.016437677572823703\n",
      "episode: 3800 total reward: 200.0 eps: 0.01622000804188198\n",
      "episode: 3900 total reward: 178.0 eps: 0.01601076285016887\n",
      "episode: 4000 total reward: 112.0 eps: 0.015809412247806517\n",
      "episode: 4100 total reward: 166.0 eps: 0.015615471979112765\n",
      "episode: 4200 total reward: 200.0 eps: 0.015428498379527544\n",
      "episode: 4300 total reward: 187.0 eps: 0.015248084103296531\n",
      "episode: 4400 total reward: 200.0 eps: 0.015073854388204487\n",
      "episode: 4500 total reward: 200.0 eps: 0.014905463779355262\n",
      "episode: 4600 total reward: 200.0 eps: 0.014742593246782542\n",
      "episode: 4700 total reward: 138.0 eps: 0.014584947642137372\n",
      "episode: 4800 total reward: 198.0 eps: 0.014432253448298278\n",
      "episode: 4900 total reward: 176.0 eps: 0.014284256782850143\n",
      "episode: 5000 total reward: 200.0 eps: 0.014140721622265264\n",
      "episode: 5100 total reward: 200.0 eps: 0.014001428218521149\n",
      "episode: 5200 total reward: 183.0 eps: 0.013866171683985996\n",
      "episode: 5300 total reward: 200.0 eps: 0.013734760723838819\n",
      "episode: 5400 total reward: 200.0 eps: 0.013607016498184134\n",
      "episode: 5500 total reward: 200.0 eps: 0.013482771598464758\n",
      "episode: 5600 total reward: 200.0 eps: 0.01336186912484746\n",
      "episode: 5700 total reward: 140.0 eps: 0.013244161853017133\n",
      "episode: 5800 total reward: 200.0 eps: 0.013129511480316922\n",
      "episode: 5900 total reward: 149.0 eps: 0.013017787942456283\n",
      "episode: 6000 total reward: 135.0 eps: 0.012908868793110689\n",
      "episode: 6100 total reward: 132.0 eps: 0.012802638639684321\n",
      "episode: 6200 total reward: 199.0 eps: 0.012698988629324323\n",
      "episode: 6300 total reward: 200.0 eps: 0.012597815979981676\n",
      "episode: 6400 total reward: 174.0 eps: 0.01249902355192602\n",
      "episode: 6500 total reward: 98.0 eps: 0.01240251945565374\n",
      "episode: 6600 total reward: 155.0 eps: 0.01230821669259179\n",
      "episode: 6700 total reward: 130.0 eps: 0.012216032825403858\n",
      "episode: 6800 total reward: 200.0 eps: 0.01212588967505907\n",
      "episode: 6900 total reward: 113.0 eps: 0.0120377130421331\n",
      "episode: 7000 total reward: 184.0 eps: 0.011951432450083671\n",
      "episode: 7100 total reward: 200.0 eps: 0.011866980908481739\n",
      "episode: 7200 total reward: 200.0 eps: 0.01178429469439066\n",
      "episode: 7300 total reward: 132.0 eps: 0.011703313150272007\n",
      "episode: 7400 total reward: 200.0 eps: 0.011623978496961555\n",
      "episode: 7500 total reward: 171.0 eps: 0.01154623566040508\n",
      "episode: 7600 total reward: 200.0 eps: 0.011470032110973345\n",
      "episode: 7700 total reward: 144.0 eps: 0.011395317714291038\n",
      "episode: 7800 total reward: 190.0 eps: 0.011322044592617122\n",
      "episode: 7900 total reward: 200.0 eps: 0.011250166995905777\n",
      "episode: 8000 total reward: 200.0 eps: 0.01117964118175896\n",
      "episode: 8100 total reward: 150.0 eps: 0.011110425303554916\n",
      "episode: 8200 total reward: 159.0 eps: 0.0110424793061026\n",
      "episode: 8300 total reward: 200.0 eps: 0.010975764828230913\n",
      "episode: 8400 total reward: 200.0 eps: 0.010910245111774533\n",
      "episode: 8500 total reward: 183.0 eps: 0.01084588491646583\n",
      "episode: 8600 total reward: 200.0 eps: 0.010782650440285157\n",
      "episode: 8700 total reward: 160.0 eps: 0.010720509244860595\n",
      "episode: 8800 total reward: 200.0 eps: 0.010659430185543134\n",
      "episode: 8900 total reward: 151.0 eps: 0.01059938334581489\n",
      "episode: 9000 total reward: 200.0 eps: 0.010540339975716555\n",
      "episode: 9100 total reward: 146.0 eps: 0.010482272434006255\n",
      "episode: 9200 total reward: 200.0 eps: 0.010425154133785426\n",
      "episode: 9300 total reward: 200.0 eps: 0.01036895949134883\n",
      "episode: 9400 total reward: 148.0 eps: 0.010313663878035112\n",
      "episode: 9500 total reward: 147.0 eps: 0.010259243574872122\n",
      "episode: 9600 total reward: 185.0 eps: 0.010205675729827259\n",
      "episode: 9700 total reward: 174.0 eps: 0.010152938317487875\n",
      "episode: 9800 total reward: 200.0 eps: 0.010101010101010102\n",
      "episode: 9900 total reward: 200.0 eps: 0.010049870596186849\n",
      "avg reward for last 100 episodes: 182.88\n",
      "total steps: 1595980.0\n"
     ]
    },
    {
     "data": {
      "image/png": "[encoded data removed]",
      "text/plain": [
       "<Figure size 432x288 with 1 Axes>"
      ]
     },
     "metadata": {
      "needs_background": "light"
     },
     "output_type": "display_data"
    },
    {
     "data": {
      "image/png": "[encoded data removed]",
      "text/plain": [
       "<Figure size 432x288 with 1 Axes>"
      ]
     },
     "metadata": {
      "needs_background": "light"
     },
     "output_type": "display_data"
    }
   ],
   "source": [
    "if __name__ == '__main__':\n",
    "    env = gym.make('CartPole-v0')\n",
    "    ft = FeatureTransformer()\n",
    "    model = Model(env, ft)\n",
    "    gamma = 0.9\n",
    "\n",
    "    if 'monitor' in sys.argv:\n",
    "        filename = os.path.basename(__file__).split('.')[0]\n",
    "        monitor_dir = './' + filename + '_' + str(datetime.now())\n",
    "        env = wrappers.Monitor(env, monitor_dir)\n",
    "\n",
    "    N = 10000\n",
    "    totalrewards = np.empty(N)\n",
    "    for n in range(N):\n",
    "        eps = 1.0/np.sqrt(n+1)\n",
    "        totalreward = play_one(model, eps, gamma)\n",
    "        totalrewards[n] = totalreward\n",
    "        if n % 100 == 0:\n",
    "            print(\"episode:\", n, \"total reward:\", totalreward, \"eps:\", eps)\n",
    "print(\"avg reward for last 100 episodes:\", totalrewards[-100:].mean())\n",
    "print(\"total steps:\", totalrewards.sum())\n",
    "\n",
    "plt.plot(totalrewards)\n",
    "plt.title(\"Rewards\")\n",
    "plt.show()\n",
    "\n",
    "plot_running_avg(totalrewards)"
   ]
  }
 ],
 "metadata": {
  "kernelspec": {
   "display_name": "Python 3",
   "language": "python",
   "name": "python3"
  },
  "language_info": {
   "codemirror_mode": {
    "name": "ipython",
    "version": 3
   },
   "file_extension": ".py",
   "mimetype": "text/x-python",
   "name": "python",
   "nbconvert_exporter": "python",
   "pygments_lexer": "ipython3",
   "version": "3.7.7"
  }
 },
 "nbformat": 4,
 "nbformat_minor": 4
}
